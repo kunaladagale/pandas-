{
 "cells": [
  {
   "cell_type": "code",
   "execution_count": null,
   "id": "4d3aef30",
   "metadata": {},
   "outputs": [],
   "source": [
    "FUNCTIONS:\n",
    "    \n",
    "head      = bydefault it gives us first 5 observation (12)\n",
    "tail      = bydefault it gives us last 5 observation (12)\n",
    "info      = rageindex :    ,data colume (no.columns),null values and data type,memeory allocation\n",
    "size      = multiplication of rows and col \n",
    "shape     = colu and rows value out put in tuple data type\n",
    "describe  = it gives us numerical values mean,meadian,sd,max min,25%,75%,50%,\n",
    "isnull.sum()   = exact count of null value\n",
    "isnull() = it gives boolean value true for the null value ,false for the regular value\n",
    "isna    = same as isnull\n",
    "fillna  = it fills all the null values by anything\n",
    "columns  = name of cloumns and length of colm\n",
    "index    =(sart ,stop,step)\n",
    "axes      =it the combinations index and columns \n",
    "loc       =it will the access the rows and columns \n",
    "iloc      =it will the access the rows and columns by indexing or we can access the single elemnet from the ilco\n",
    "sort_index = it sort the index  axis= 0 rows ,axis =1 columns\n",
    "set_index  = for replacing the index \n",
    "reset_index = original indexing \n",
    "sort_values = for sorting pericular col/features\n",
    "df.T       =it convert row to col and col to row\n",
    "value_counts()  = it gives a count of unique values of the specific Feature\n",
    "unique()      = it gives us a list of unique values\n",
    "Drop = it is use to drop a specific Features\n",
    "\n",
    "\n",
    "PARAMETERS:\n",
    "inplace =True   == if we want to store the changes in the dataframe \n",
    "axis =0 >> Rows\n",
    "     =1 >> Columns\n",
    "ascending"
   ]
  }
 ],
 "metadata": {
  "kernelspec": {
   "display_name": "Python 3 (ipykernel)",
   "language": "python",
   "name": "python3"
  },
  "language_info": {
   "codemirror_mode": {
    "name": "ipython",
    "version": 3
   },
   "file_extension": ".py",
   "mimetype": "text/x-python",
   "name": "python",
   "nbconvert_exporter": "python",
   "pygments_lexer": "ipython3",
   "version": "3.9.12"
  }
 },
 "nbformat": 4,
 "nbformat_minor": 5
}
